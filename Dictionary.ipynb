{
  "nbformat": 4,
  "nbformat_minor": 0,
  "metadata": {
    "colab": {
      "provenance": [],
      "authorship_tag": "ABX9TyMA6U7dTs78N61rmy7Dbfp7",
      "include_colab_link": true
    },
    "kernelspec": {
      "name": "python3",
      "display_name": "Python 3"
    },
    "language_info": {
      "name": "python"
    }
  },
  "cells": [
    {
      "cell_type": "markdown",
      "metadata": {
        "id": "view-in-github",
        "colab_type": "text"
      },
      "source": [
        "<a href=\"https://colab.research.google.com/github/nikitarajput08/Python/blob/main/Dictionary.ipynb\" target=\"_parent\"><img src=\"https://colab.research.google.com/assets/colab-badge.svg\" alt=\"Open In Colab\"/></a>"
      ]
    },
    {
      "cell_type": "code",
      "execution_count": null,
      "metadata": {
        "colab": {
          "base_uri": "https://localhost:8080/"
        },
        "id": "2AnxRObAaKNp",
        "outputId": "4deb9aad-c5fe-4f2f-b1c8-2dd7fd4868b6"
      },
      "outputs": [
        {
          "output_type": "stream",
          "name": "stdout",
          "text": [
            "{'Apple': 10, 'Orange': 20}\n"
          ]
        }
      ],
      "source": [
        "#write a python program to show dictionary\n",
        "fruit={\"Apple\":10,\"Orange\":20}\n",
        "print(fruit)"
      ]
    },
    {
      "cell_type": "code",
      "source": [
        "#write a python program to show duplicate not allow\n",
        "fruit={\"Apple\":10,\"Orange\":20,\"Mango\":30,\"Apple\":40}\n",
        "print(fruit)"
      ],
      "metadata": {
        "colab": {
          "base_uri": "https://localhost:8080/"
        },
        "id": "mWYJLihTcVwQ",
        "outputId": "851fbe47-b87d-4310-c551-2d190984c1b2"
      },
      "execution_count": null,
      "outputs": [
        {
          "output_type": "stream",
          "name": "stdout",
          "text": [
            "{'Apple': 40, 'Orange': 20, 'Mango': 30}\n"
          ]
        }
      ]
    },
    {
      "cell_type": "code",
      "source": [
        "#write a python program to show length of dictionary\n",
        "fruit={\"Apple\":10,\"Mango\":20,\"Orange\":30}\n",
        "print(len(fruit))"
      ],
      "metadata": {
        "colab": {
          "base_uri": "https://localhost:8080/"
        },
        "id": "V4KYH9KLdcoq",
        "outputId": "9420cba3-72ac-49c6-bf25-94bcc88e8b5f"
      },
      "execution_count": null,
      "outputs": [
        {
          "output_type": "stream",
          "name": "stdout",
          "text": [
            "3\n"
          ]
        }
      ]
    },
    {
      "cell_type": "code",
      "source": [
        "#write a python program to show data type of dictionary\n",
        "fruit={\"Apple\":10,\"Orange\":20,\"Mango\":30,\n",
        "\"fruits\":[\"Apple\",\"Banana\",\"Mango\"]}\n",
        "print(fruit)"
      ],
      "metadata": {
        "colab": {
          "base_uri": "https://localhost:8080/"
        },
        "id": "-NCqlntjd672",
        "outputId": "7592e066-d8df-4cb1-939a-61713ea0e816"
      },
      "execution_count": null,
      "outputs": [
        {
          "output_type": "stream",
          "name": "stdout",
          "text": [
            "{'Apple': 10, 'Orange': 20, 'Mango': 30, 'fruits': ['Apple', 'Banana', 'Mango']}\n"
          ]
        }
      ]
    },
    {
      "cell_type": "code",
      "source": [
        "#write a python program to show type of distionary\n",
        "fruit={\"Apple\":10,\"Car\":\"blue\"}\n",
        "print(type(fruit))"
      ],
      "metadata": {
        "colab": {
          "base_uri": "https://localhost:8080/"
        },
        "id": "mJ-9AM6ufjRe",
        "outputId": "7fa26a8f-e02f-429a-9e3d-753d0b17b216"
      },
      "execution_count": null,
      "outputs": [
        {
          "output_type": "stream",
          "name": "stdout",
          "text": [
            "<class 'dict'>\n"
          ]
        }
      ]
    },
    {
      "cell_type": "code",
      "source": [
        "\n"
      ],
      "metadata": {
        "id": "OCfxbxUIgiL6"
      },
      "execution_count": null,
      "outputs": []
    }
  ]
}